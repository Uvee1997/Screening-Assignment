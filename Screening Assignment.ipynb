{
 "cells": [
  {
   "cell_type": "markdown",
   "id": "f70a42af",
   "metadata": {},
   "source": [
    "1) Create function in python to read text file and replace specific content of the file."
   ]
  },
  {
   "cell_type": "code",
   "execution_count": 1,
   "id": "8a2fe113",
   "metadata": {},
   "outputs": [
    {
     "name": "stdout",
     "output_type": "stream",
     "text": [
      "This is a placement assignment\n"
     ]
    }
   ],
   "source": [
    "## To read text file\n",
    "\n",
    "fileObject = open(\"example.txt\",\"r\")\n",
    "data = fileObject.read()\n",
    "print(data)"
   ]
  },
  {
   "cell_type": "code",
   "execution_count": 4,
   "id": "8c3847a1",
   "metadata": {},
   "outputs": [],
   "source": [
    "## To replace file content\n",
    "\n",
    "fileObject1 = open(\"example.txt\",\"rt\")\n",
    "fileObject2 = open(\"out.txt\",\"wt\")\n",
    "for line in fileObject1:\n",
    "    fileObject2.write(line.replace(\"placement\",\"screening\"))\n",
    "fileObject1.close()\n",
    "fileObject2.close()"
   ]
  },
  {
   "cell_type": "code",
   "execution_count": 5,
   "id": "25c7a31c",
   "metadata": {},
   "outputs": [
    {
     "name": "stdout",
     "output_type": "stream",
     "text": [
      "This is a screening assignment\n"
     ]
    }
   ],
   "source": [
    "print(data)"
   ]
  },
  {
   "cell_type": "markdown",
   "id": "6f5d9164",
   "metadata": {},
   "source": [
    "2) Demonstrate use of abstract class, multiple inheritance & decorator in python using example.\n",
    "\n",
    ":- \n",
    "   i) Abstract class:- An abstract class can be consider as blueprint for other classes. It allows you to create a set of                          methods that must created within any child classes build from the abstract class. A class which                            contains one or more abstract method is called as abstract class. This class has declaration but                            does not have implementation. Python does not comes with abstract class, it comes with module that                          provides the base for defining Abstract Base Classes & that module name is ABC.\n",
    "   \n",
    "   ii) Multiple inhertance:- Suppose we have class A & class B. Now, from class A & class B we are doing inheritance in                                    class C this method is called as multiple inheritance\n",
    "   \n",
    "   iii) Decorator:- A decorator in Python is a function that takes another function as its argument, and returns yet                           another function. Decorator is extremely useful as it allow the extension of an existing function,                         without any modification to the original function source code."
   ]
  },
  {
   "cell_type": "markdown",
   "id": "da5edd6f",
   "metadata": {},
   "source": [
    "\n",
    "class Demo:\n",
    "    @abstractmethod\n",
    "    def one(self):\n",
    "        pass\n",
    "    def two(self):\n",
    "        print(\"implemented method\")\n",
    "     \n",
    "#### Abstract methods, in python are decleared by using @abstractmethod decorator. Method 'one' is abstract method. Method 'two' is non-abstract method, but one abstract method is present in class Demo hence it is called abstract class. "
   ]
  },
  {
   "cell_type": "code",
   "execution_count": 18,
   "id": "8133799f",
   "metadata": {},
   "outputs": [
    {
     "name": "stdout",
     "output_type": "stream",
     "text": [
      "Welcome to Bank\n",
      "In SBI Bank 5₹ interest\n"
     ]
    }
   ],
   "source": [
    "## Example of abstract class\n",
    "\n",
    "from abc import ABC, abstractmethod\n",
    "\n",
    "#abstract class\n",
    "class Bank(ABC):\n",
    "    def bank_info(self):\n",
    "        print('Welcome to Bank')\n",
    "    @abstractmethod\n",
    "    def interest(self):\n",
    "        \"Abstract Method\"\n",
    "        pass\n",
    "# Child class or subclass    \n",
    "class SBI(Bank):\n",
    "    def interest(self):\n",
    "        \"implementation of abstract method\"\n",
    "        print(\"In SBI Bank 5₹ interest\")\n",
    "        \n",
    "s= SBI()\n",
    "s.bank_info()\n",
    "s.interest()\n",
    "\n",
    "    "
   ]
  },
  {
   "cell_type": "code",
   "execution_count": 21,
   "id": "ae3b5a60",
   "metadata": {},
   "outputs": [
    {
     "name": "stdout",
     "output_type": "stream",
     "text": [
      "Father Enjoys Reading\n",
      "Mother Loves Cooking\n",
      "Son Enjoys Driving\n"
     ]
    }
   ],
   "source": [
    "## Example of multiple inheritance\n",
    "\n",
    "# Class A\n",
    "class Father():\n",
    "    def Reading(self):\n",
    "        print(\"Father Enjoys Reading\")\n",
    "\n",
    "# Class B\n",
    "class Mother():\n",
    "    def Cooking(self):\n",
    "        print(\"Mother Loves Cooking\")\n",
    "        \n",
    "# Class C\n",
    "class Son(Father,Mother):\n",
    "    def Driving(self):\n",
    "        print(\"Son Enjoys Driving\")\n",
    "c= Son()\n",
    "c.Reading()\n",
    "c.Cooking()\n",
    "c.Driving()\n",
    "        "
   ]
  },
  {
   "cell_type": "code",
   "execution_count": 24,
   "id": "15ee5eea",
   "metadata": {},
   "outputs": [
    {
     "name": "stdout",
     "output_type": "stream",
     "text": [
      "Hello\n",
      "Hello\n"
     ]
    }
   ],
   "source": [
    "## Example of Decorator\n",
    "\n",
    "def first(msg):\n",
    "    print(msg)\n",
    "\n",
    "first(\"Hello\")    \n",
    "second = first\n",
    "second(\"Hello\")"
   ]
  },
  {
   "cell_type": "code",
   "execution_count": null,
   "id": "d7b7408b",
   "metadata": {},
   "outputs": [],
   "source": []
  }
 ],
 "metadata": {
  "kernelspec": {
   "display_name": "Python 3 (ipykernel)",
   "language": "python",
   "name": "python3"
  },
  "language_info": {
   "codemirror_mode": {
    "name": "ipython",
    "version": 3
   },
   "file_extension": ".py",
   "mimetype": "text/x-python",
   "name": "python",
   "nbconvert_exporter": "python",
   "pygments_lexer": "ipython3",
   "version": "3.9.7"
  }
 },
 "nbformat": 4,
 "nbformat_minor": 5
}
